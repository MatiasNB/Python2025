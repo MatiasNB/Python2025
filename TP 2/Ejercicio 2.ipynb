{
 "cells": [
  {
   "cell_type": "markdown",
   "id": "01ce336c",
   "metadata": {},
   "source": [
    " 2. Título más largo\n",
    " Dado un listado de títulos de streams en Twitch:\n",
    " titles = [\n",
    "    \"Speedrun de Super Mario en tiempo récord\",\n",
    "    \"Charla sobre desarrollo de videojuegos\",\n",
    "    \"Jugando al nuevo FPS del momento con amigos\",\n",
    "    \"Música en vivo: improvisaciones al piano\"\n",
    " ]\n",
    " Encuentre el título con más palabras y muéstrelo en pantalla.\n",
    " Salida esperada: \n",
    "    El título más largo es: \"Jugando al nuevo FPS del momento con amigos\""
   ]
  },
  {
   "cell_type": "code",
   "execution_count": null,
   "id": "2967e156",
   "metadata": {},
   "outputs": [],
   "source": [
    "titles = [\n",
    "    \"Speedrun de Super Mario en tiempo récord\",\n",
    "    \"Charla sobre desarrollo de videojuegos\",\n",
    "    \"Jugando al nuevo FPS del momento con amigos\",\n",
    "    \"Música en vivo: improvisaciones al piano\"\n",
    " ]\n",
    "\n",
    "aux=\"\"\n",
    "for title in titles:\n",
    "    if len(title) > len(aux):\n",
    "        aux = title\n",
    "print (f\"El titulo más largo es: {aux}\") "
   ]
  }
 ],
 "metadata": {
  "kernelspec": {
   "display_name": "Python 3",
   "language": "python",
   "name": "python3"
  },
  "language_info": {
   "name": "python",
   "version": "3.12.0"
  }
 },
 "nbformat": 4,
 "nbformat_minor": 5
}
