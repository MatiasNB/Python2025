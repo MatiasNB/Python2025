{
 "cells": [
  {
   "cell_type": "markdown",
   "id": "fa3c848a-6ccb-40c9-a228-a1b5c838a099",
   "metadata": {},
   "source": [
    " 3. Código de conducta\n",
    " Dado un código de conducta para un servidor de Discord:\n",
    " rules = \"\"\"Respeta a los demás. No se permiten insultos ni lenguaje ofensivo.\n",
    " Evita el spam. No publiques enlaces sospechosos o repetitivos.\n",
    " No compartas información personal.\n",
    " Usa los canales adecuados para cada tema.\n",
    " Sigue las instrucciones de los moderadores.\"\"\"\n",
    " \n",
    " Solicite una palabra clave al usuario e imprima todas las reglas que la contengan"
   ]
  },
  {
   "cell_type": "code",
   "execution_count": 3,
   "id": "8fc09415-c817-4091-a330-f3c4e01c4e26",
   "metadata": {},
   "outputs": [
    {
     "name": "stdout",
     "output_type": "stream",
     "text": [
      "Palabra no definida\n"
     ]
    }
   ],
   "source": [
    "rules = \"\"\"Respeta a los demás. No se permiten insultos ni lenguaje ofensivo.\n",
    " Evita el spam. No publiques enlaces sospechosos o repetitivos.\n",
    " No compartas información personal.\n",
    " Usa los canales adecuados para cada tema.\n",
    " Sigue las instrucciones de los moderadores.\"\"\"\n",
    "\n",
    "keyword = input(\"Ingrese la palabra Clave: \");\n",
    "if keyword == \"moderadores\":\n",
    "    print(rules)\n",
    "else: \n",
    "    print (\"Palabra no definida\")"
   ]
  }
 ],
 "metadata": {
  "kernelspec": {
   "display_name": "Python 3",
   "language": "python",
   "name": "python3"
  },
  "language_info": {
   "codemirror_mode": {
    "name": "ipython",
    "version": 3
   },
   "file_extension": ".py",
   "mimetype": "text/x-python",
   "name": "python",
   "nbconvert_exporter": "python",
   "pygments_lexer": "ipython3",
   "version": "3.12.0"
  }
 },
 "nbformat": 4,
 "nbformat_minor": 5
}
