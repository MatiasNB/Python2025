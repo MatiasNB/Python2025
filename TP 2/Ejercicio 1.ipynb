{
 "cells": [
  {
   "cell_type": "markdown",
   "id": "eda4b97a",
   "metadata": {},
   "source": [
    " 1. Análisis del Zen de Python\n",
    " Copie el texto del Zen de Python en una variable e imprima todas las líneas cuya segunda\n",
    " palabra comience con una vocal (A, E, I, O, U, a, e, i, o, u).\n",
    " El Zen de Python es una colección de principios que guían la filosofía de diseño de Python,\n",
    " escrita en forma de aforismos. Resalta la simplicidad, legibilidad y claridad en el código.\n",
    " Para verlo en Python, ejecute en la consola \n",
    "import this\n",
    " Para este punto debe colocar el contenido del Zen de python en una variable string"
   ]
  },
  {
   "cell_type": "markdown",
   "id": "8b52972f",
   "metadata": {},
   "source": [
    "1.- Generamos el texto que vamos a trabajar y extructura auxiliar"
   ]
  },
  {
   "cell_type": "code",
   "execution_count": null,
   "id": "e301c3d8",
   "metadata": {},
   "outputs": [],
   "source": [
    "import this\n",
    "import codecs\n",
    "import string\n",
    "\n",
    "zen_text = codecs.decode(this.s,\"rot_13\")\n",
    "#Estructura auxiliar aportado por el tp\n",
    "vocals = [\"A\",\"a\",\"E\",\"e\",\"I\",\"i\",\"O\",\"o\",\"U\",\"u\"]\n"
   ]
  },
  {
   "cell_type": "markdown",
   "id": "ff4cf9a5",
   "metadata": {},
   "source": [
    "Usaremos sobre la variable zen_text el metodo splitlines, para generar una lista de strings. Donde cada linea va hacer string en la cadena. Para luego recorrer. \n",
    "\n"
   ]
  },
  {
   "cell_type": "code",
   "execution_count": 5,
   "id": "af1cc381",
   "metadata": {},
   "outputs": [
    {
     "name": "stdout",
     "output_type": "stream",
     "text": [
      "Beautiful is better than ugly.\n",
      "Explicit is better than implicit.\n",
      "Simple is better than complex.\n",
      "Complex is better than complicated.\n",
      "Flat is better than nested.\n",
      "Sparse is better than dense.\n",
      "Unless explicitly silenced.\n",
      "Now is better than never.\n",
      "Namespaces are one honking great idea -- let's do more of those!\n"
     ]
    }
   ],
   "source": [
    "lines = zen_text.splitlines()\n",
    "for line in lines:\n",
    "    list_words=line.split()\n",
    "    if len(list_words)>1 and list_words[1][0] in vocals:\n",
    "        print(line)\n",
    "    "
   ]
  }
 ],
 "metadata": {
  "kernelspec": {
   "display_name": "Python 3",
   "language": "python",
   "name": "python3"
  },
  "language_info": {
   "codemirror_mode": {
    "name": "ipython",
    "version": 3
   },
   "file_extension": ".py",
   "mimetype": "text/x-python",
   "name": "python",
   "nbconvert_exporter": "python",
   "pygments_lexer": "ipython3",
   "version": "3.12.0"
  }
 },
 "nbformat": 4,
 "nbformat_minor": 5
}
